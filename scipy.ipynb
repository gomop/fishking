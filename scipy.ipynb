{
 "cells": [
  {
   "cell_type": "code",
   "execution_count": 8,
   "metadata": {
    "collapsed": false
   },
   "outputs": [],
   "source": [
    "import numpy as np\n",
    "import matplotlib.pyplot as plt\n",
    " \n",
    "N = 5\n",
    "menMeans = (20, 35, 30, 35, 27)\n",
    "menStd =   (2, 3, 4, 1, 2)\n",
    " \n",
    "ind = np.arange(N)  # the x locations for the groups\n",
    "width = 0.35       # the width of the bars\n",
    " \n",
    "fig, ax = plt.subplots()\n",
    "rects1 = ax.bar(ind, menMeans, width, color='pink', yerr=menStd)\n",
    " \n",
    "womenMeans = (25, 32, 34, 20, 25)\n",
    "womenStd =   (3, 5, 2, 3, 3)\n",
    "rects2 = ax.bar(ind+width, womenMeans, width, color='orange', yerr=womenStd)\n",
    " \n",
    "# add some\n",
    "ax.set_ylabel('Scores')\n",
    "ax.set_title('Scores by group and gender')\n",
    "ax.set_xticks(ind+width)\n",
    "ax.set_xticklabels( ('G1', 'G2', 'G3', 'G4', 'G5') )\n",
    " \n",
    "ax.legend( (rects1[0], rects2[0]), ('Men', 'Women') )\n",
    " \n",
    "def autolabel(rects):\n",
    "    # attach some text labels\n",
    "    for rect in rects:\n",
    "        height = rect.get_height()\n",
    "        ax.text(rect.get_x()+rect.get_width()/2., 1.05*height, '%d'%int(height),\n",
    "                ha='center', va='bottom')\n",
    " \n",
    "autolabel(rects1)\n",
    "autolabel(rects2)\n",
    " \n",
    "plt.show()"
   ]
  },
  {
   "cell_type": "code",
   "execution_count": 9,
   "metadata": {
    "collapsed": true
   },
   "outputs": [],
   "source": [
    "import pylab as p\n",
    "import numpy as np\n",
    "import mahotas\n",
    " \n",
    "f = np.ones((256,256), bool)\n",
    "f[200:,240:] = False\n",
    "f[128:144,32:48] = False\n",
    "# f is basically True with the exception of two islands: one in the lower-right\n",
    "# corner, another, middle-left\n",
    " \n",
    "dmap = mahotas.distance(f)\n",
    "p.imshow(dmap)\n",
    "p.show()"
   ]
  },
  {
   "cell_type": "code",
   "execution_count": 10,
   "metadata": {
    "collapsed": true
   },
   "outputs": [],
   "source": [
    "from scipy import optimize, special\n",
    "from numpy import *\n",
    "from pylab import *\n",
    " \n",
    "x = arange(0,10,0.01)\n",
    " \n",
    "for k in arange(0.5,5.5):\n",
    "     y = special.jv(k,x)\n",
    "     plot(x,y)\n",
    "     f = lambda x: -special.jv(k,x)\n",
    "     x_max = optimize.fminbound(f,0,6)\n",
    "     plot([x_max], [special.jv(k,x_max)],'ro')\n",
    "\n",
    "title('Different Bessel functions and their local maxima')\n",
    "show()"
   ]
  },
  {
   "cell_type": "code",
   "execution_count": null,
   "metadata": {
    "collapsed": true
   },
   "outputs": [],
   "source": []
  }
 ],
 "metadata": {
  "kernelspec": {
   "display_name": "Python 2",
   "language": "python",
   "name": "python2"
  },
  "language_info": {
   "codemirror_mode": {
    "name": "ipython",
    "version": 2
   },
   "file_extension": ".py",
   "mimetype": "text/x-python",
   "name": "python",
   "nbconvert_exporter": "python",
   "pygments_lexer": "ipython2",
   "version": "2.7.11"
  }
 },
 "nbformat": 4,
 "nbformat_minor": 0
}
